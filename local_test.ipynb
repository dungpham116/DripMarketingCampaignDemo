{
 "cells": [
  {
   "cell_type": "code",
   "execution_count": 1,
   "metadata": {},
   "outputs": [
    {
     "name": "stderr",
     "output_type": "stream",
     "text": [
      "/home/tp/smartlead_agent/agents/email_agent.py:51: LangChainDeprecationWarning: Please see the migration guide at: https://python.langchain.com/docs/versions/migrating_memory/\n",
      "  memory = ConversationBufferWindowMemory(\n",
      "/home/tp/smartlead_agent/agents/email_agent.py:56: LangChainDeprecationWarning: LangChain agents will continue to be supported, but it is recommended for new use cases to be built with LangGraph. LangGraph offers a more flexible and full-featured framework for building agents, including support for tool-calling, persistence of state, and human-in-the-loop workflows. For details, refer to the `LangGraph documentation <https://langchain-ai.github.io/langgraph/>`_ as well as guides for `Migrating from AgentExecutor <https://python.langchain.com/docs/how_to/migrate_agent/>`_ and LangGraph's `Pre-built ReAct agent <https://langchain-ai.github.io/langgraph/how-tos/create-react-agent/>`_.\n",
      "  return initialize_agent(\n",
      "/home/tp/smartlead_agent/agents/email_agent.py:18: LangChainDeprecationWarning: The method `Chain.__call__` was deprecated in langchain 0.1.0 and will be removed in 1.0. Use :meth:`~invoke` instead.\n",
      "  return self.agent_executor(inputs)\n"
     ]
    },
    {
     "name": "stdout",
     "output_type": "stream",
     "text": [
      "\n",
      "\n",
      "\u001b[1m> Entering new AgentExecutor chain...\u001b[0m\n",
      "\u001b[32;1m\u001b[1;3mI'm here to assist you. How can I help you today?\u001b[0m\n",
      "\n",
      "\u001b[1m> Finished chain.\u001b[0m\n"
     ]
    },
    {
     "data": {
      "text/plain": [
       "{'input': 'test',\n",
       " 'memory': [],\n",
       " 'output': \"I'm here to assist you. How can I help you today?\"}"
      ]
     },
     "execution_count": 1,
     "metadata": {},
     "output_type": "execute_result"
    }
   ],
   "source": [
    "from agents.email_agent import EmailAgent\n",
    "\n",
    "a = EmailAgent()\n",
    "a({'input':'test'})"
   ]
  },
  {
   "cell_type": "code",
   "execution_count": null,
   "metadata": {},
   "outputs": [],
   "source": [
    "from langchain.document_loaders import PyMuPDFLoader\n",
    "\n",
    "# Load a PDF file\n",
    "loader = PyMuPDFLoader(\"data/Hyred_Intro-deck.pdf\")\n",
    "documents = loader.load()\n",
    "\n",
    "# Print extracted text\n",
    "for doc in documents:\n",
    "    print(doc.page_content)  # Extracted text"
   ]
  },
  {
   "cell_type": "code",
   "execution_count": 26,
   "metadata": {},
   "outputs": [
    {
     "name": "stdout",
     "output_type": "stream",
     "text": [
      "\n",
      "Crawling: https://hyred.team#content\n",
      "\n",
      "Crawling: https://hyred.team/\n",
      "\n",
      "Crawling: https://hyred.team\n",
      "\n",
      "Crawling: https://hyred.team/employers-eor-revamp/\n",
      "\n",
      "Crawling: https://hyred.team#inquiryform\n",
      "\n",
      "Crawling: https://hyred.team#contactus\n",
      "\n",
      "Crawling: https://hyred.team/aboutus-revamp/\n",
      "\n",
      "Crawling: https://hyred.team/employers-recruitment-revamp/\n",
      "\n",
      "Crawling: https://hyred.team/employers-outsourced-payroll-revamp/\n"
     ]
    }
   ],
   "source": [
    "import requests\n",
    "from bs4 import BeautifulSoup\n",
    "from urllib.parse import urljoin\n",
    "from pprint import pprint\n",
    "# Base URL to crawl\n",
    "base_url = \"https://hyred.team\"\n",
    "visited_links = set()  # To avoid duplicate links\n",
    "\n",
    "def extract_links(url):\n",
    "    \"\"\"Extract all internal links from a given URL.\"\"\"\n",
    "    try:\n",
    "        response = requests.get(url, headers={\"User-Agent\": \"Mozilla/5.0\"})\n",
    "        if response.status_code != 200:\n",
    "            print(f\"Failed to access {url}\")\n",
    "            return []\n",
    "        \n",
    "        soup = BeautifulSoup(response.text, \"html.parser\")\n",
    "        links = set()\n",
    "\n",
    "        for a_tag in soup.find_all(\"a\", href=True):\n",
    "            full_link = urljoin(base_url, a_tag[\"href\"])  # Convert relative to absolute URL\n",
    "            if full_link.startswith(base_url):  # Ensure it's an internal link\n",
    "                links.add(full_link)\n",
    "        \n",
    "        return links\n",
    "    except Exception as e:\n",
    "        print(f\"Error extracting links from {url}: {e}\")\n",
    "        return []\n",
    "\n",
    "def extract_main_content(url):\n",
    "    \"\"\"Extract main content while removing menus, sidebars, and footers.\"\"\"\n",
    "    try:\n",
    "        response = requests.get(url, headers={\"User-Agent\": \"Mozilla/5.0\"})\n",
    "        if response.status_code != 200:\n",
    "            print(f\"Failed to access {url}\")\n",
    "            return \"\"\n",
    "\n",
    "        soup = BeautifulSoup(response.text, \"html.parser\")\n",
    "\n",
    "        # Remove unwanted elements (navigation, footers, sidebars, ads)\n",
    "        for tag in soup.select(\"nav, footer, aside, header, .sidebar, .menu, .advertisement, .ads\"):\n",
    "            tag.extract()\n",
    "\n",
    "        # Extract only main content\n",
    "        main_content = soup.find(\"main\")  # Most sites wrap content in <main>\n",
    "        if not main_content:\n",
    "            main_content = soup.find(\"article\")  # Try <article> if <main> is missing\n",
    "        if not main_content:\n",
    "            main_content = soup.find(\"div\", class_=\"content\")  # Some sites use <div class=\"content\">\n",
    "\n",
    "        # Extract text\n",
    "        if main_content:\n",
    "            return main_content.get_text(separator=\" \", strip=True)\n",
    "        else:\n",
    "            return soup.get_text(separator=\" \", strip=True)  # Fallback if no clear main content\n",
    "    except Exception as e:\n",
    "        print(f\"Error extracting content from {url}: {e}\")\n",
    "        return \"\"\n",
    "\n",
    "# Start crawling from the base URL\n",
    "links_to_crawl = extract_links(base_url)\n",
    "s = []\n",
    "for link in links_to_crawl:\n",
    "    if link not in visited_links:\n",
    "        visited_links.add(link)\n",
    "        print(f\"\\nCrawling: {link}\")\n",
    "        page_text = extract_main_content(link)\n",
    "        s.append(page_text)  # Print only the first 500 characters"
   ]
  },
  {
   "cell_type": "code",
   "execution_count": 54,
   "metadata": {},
   "outputs": [
    {
     "data": {
      "text/plain": [
       "{'https://hyred.team',\n",
       " 'https://hyred.team#contactus',\n",
       " 'https://hyred.team#content',\n",
       " 'https://hyred.team#inquiryform',\n",
       " 'https://hyred.team/',\n",
       " 'https://hyred.team/aboutus-revamp/',\n",
       " 'https://hyred.team/employers-eor-revamp/',\n",
       " 'https://hyred.team/employers-outsourced-payroll-revamp/',\n",
       " 'https://hyred.team/employers-recruitment-revamp/'}"
      ]
     },
     "execution_count": 54,
     "metadata": {},
     "output_type": "execute_result"
    }
   ],
   "source": [
    "links_to_crawl"
   ]
  },
  {
   "cell_type": "code",
   "execution_count": 55,
   "metadata": {},
   "outputs": [],
   "source": [
    "# Join all strings in the list with newlines and write to file\n",
    "list_links = list(visited_links)\n",
    "with open('crawled_content.txt', 'w', encoding='utf-8') as f:\n",
    "    for i in range(len(s)):\n",
    "        f.write(list_links[i] + '\\n')\n",
    "        text_split = s[i].split('. ')\n",
    "        for j in range(len(text_split)):\n",
    "            f.write(text_split[j] + '\\n')\n",
    "    f.close()\n",
    "    "
   ]
  },
  {
   "cell_type": "code",
   "execution_count": 35,
   "metadata": {},
   "outputs": [
    {
     "data": {
      "text/plain": [
       "['Where Talent meets Opportunity and Jobs become Careers',\n",
       " 'We provide an efficient and connected experience for our clients and candidates, seeking to listen to and fully understand their aspirations',\n",
       " 'The Employment Agency for everyone',\n",
       " \"Find Opportunities Find Top Talent Recruitment Find the right person for the right job with Hyred's tailored recruitment process\",\n",
       " 'Flexible and efficient',\n",
       " \"More Info Employer of Record Hire great talent anywhere, anytime with Hyred's Employer of Record solution\",\n",
       " 'Compliant and hassle free',\n",
       " \"More Info Outsorced payroll Never worry about payroll so that you can focus on what's most important - growing your business\",\n",
       " \"More Info Let's break it down Leading HR Solutions Firm in South East Asia SEE MORE Trusted by global brands across the region SEE MORE Comperhensive talent management solutions - global yet local SEE MORE End-to-end employment lifecycle - Recruitment to Employer of Record to Payroll SEE MORE Testimonial Ravindran Khrisnan | General Manager - APAC “During our collaboration with Hyred for the recruitment of an Imaging Informatics professional in Hong Kong, we experienced an exceptional level of professionalism in finding Mach7 Technologies Asia Pactic a domain based candidate\",\n",
       " 'We are extremely satisfied with HYRED1s services and would eagerly engage their assistance again in the future.” Atika Zainal | HR and Office Manager - Group “Hyred team has been prompt in their responses – an assurance that they can attend to my queries in the shortest time possible',\n",
       " 'Hyred has helped our payroll processing for our satellite employees a smooth one',\n",
       " 'Thanks Hyred!” Mattew Li | Co-Founder Nova Group Limited “Hyred has made it simple for us to scale and manage our business internationally with a remote workforce, as well as access global talent easily',\n",
       " 'Their team is reliable and attentive to our needs, be it recruitment, onboarding or managing global payroll.” Ingo Schweder | Chief Executive Officer “ The Team of Hyred supported us in hiring a stock exchange, SEC exposed Director of Finance',\n",
       " 'Given our company’s operating segment being the wellness hospitality and wellness Real Estate economy, the Hyred team had to cross references various companies and people and ultimately ensured we identified a perfect match for our future growth but also we identified a fine new colleague with the right attitude and outlook in life',\n",
       " '“ Kennesh Raj | Head of Corporate Strategy “ Hyred has been instrumental in placing key, high-impact candidates in our organization, significantly contributing to our business growth',\n",
       " 'Their professional and efficient recruitment services have streamlined our hiring process and ensured we have the right talent to drive our success',\n",
       " '“ Previous Next Clients Contact Us Enquiry Form Contact Form Demo First Name Last Name Company Name Email Your Message Submit Form']"
      ]
     },
     "execution_count": 35,
     "metadata": {},
     "output_type": "execute_result"
    }
   ],
   "source": [
    "s[0].split('. ')"
   ]
  }
 ],
 "metadata": {
  "kernelspec": {
   "display_name": "Python 3",
   "language": "python",
   "name": "python3"
  },
  "language_info": {
   "codemirror_mode": {
    "name": "ipython",
    "version": 3
   },
   "file_extension": ".py",
   "mimetype": "text/x-python",
   "name": "python",
   "nbconvert_exporter": "python",
   "pygments_lexer": "ipython3",
   "version": "3.12.2"
  }
 },
 "nbformat": 4,
 "nbformat_minor": 2
}
