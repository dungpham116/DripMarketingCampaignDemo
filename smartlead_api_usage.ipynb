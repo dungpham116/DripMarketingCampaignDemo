{
 "cells": [
  {
   "cell_type": "code",
   "execution_count": 18,
   "metadata": {},
   "outputs": [],
   "source": [
    "import requests\n",
    "import pandas as pd\n",
    "import csv\n",
    "import json\n",
    "from dotenv import load_dotenv\n",
    "import os\n",
    "load_dotenv('example.env')\n",
    "API_KEY = os.getenv(\"SMARTLEAD_API_KEY\")\n"
   ]
  },
  {
   "cell_type": "markdown",
   "metadata": {},
   "source": [
    "## CREATE A CAMPAIGN"
   ]
  },
  {
   "cell_type": "code",
   "execution_count": 2,
   "metadata": {},
   "outputs": [],
   "source": [
    "data = {\n",
    "    \"name\": \"Campaign created via API\",\n",
    "    \"client_id\": None,\n",
    "}\n",
    "create_campaign = requests.post(f\"https://server.smartlead.ai/api/v1/campaigns/create?api_key={API_KEY}\", data=data)"
   ]
  },
  {
   "cell_type": "code",
   "execution_count": 3,
   "metadata": {},
   "outputs": [],
   "source": [
    "# leads = pd.read_csv(\"First 100 - Sheet2.csv\")\n",
    "# leads = leads.drop(['Unnamed: 6', 'Unnamed: 7', 'Last Name'], axis=1)\n",
    "# leads_deliverable = leads[leads['result'] == 'deliverable']\n",
    "# leads_deliverable.reset_index(drop=True, inplace=True)\n",
    "# leads_deliverable.to_csv(\"leads_deliverable.csv\", index=False)"
   ]
  },
  {
   "cell_type": "markdown",
   "metadata": {},
   "source": [
    "GET CAMPAIGN ID WITH NAME"
   ]
  },
  {
   "cell_type": "code",
   "execution_count": 4,
   "metadata": {},
   "outputs": [
    {
     "name": "stdout",
     "output_type": "stream",
     "text": [
      "1502660\n"
     ]
    }
   ],
   "source": [
    "campaigns = requests.get(f\"https://server.smartlead.ai/api/v1/campaigns?api_key={API_KEY}\")\n",
    "campaigns = campaigns.json()\n",
    "for i in campaigns:\n",
    "    if i['name'] == \"Campaign created via API\":\n",
    "        campaign_id = i['id']\n",
    "        break\n",
    "print(campaign_id)"
   ]
  },
  {
   "cell_type": "markdown",
   "metadata": {},
   "source": [
    "## CONVERT DATA FROM CSV TO JSON FILE WITH THE FOLLOWING FORMAT"
   ]
  },
  {
   "cell_type": "code",
   "execution_count": 5,
   "metadata": {},
   "outputs": [
    {
     "name": "stdout",
     "output_type": "stream",
     "text": [
      "Converted 6 leads to JSON format\n"
     ]
    }
   ],
   "source": [
    "def convert_csv_to_json(csv_file_path, json_file_path):\n",
    "    lead_list = []\n",
    "    \n",
    "    with open(csv_file_path, 'r') as csv_file:\n",
    "        csv_reader = csv.DictReader(csv_file)\n",
    "        \n",
    "        for row in csv_reader:\n",
    "            # Create the lead dictionary with the required structure\n",
    "            lead = {\n",
    "                \"first_name\": row.get(\"First Name\", \"\"),\n",
    "                \"last_name\": row.get(\"Last Name\", \"\"),\n",
    "                \"email\": row.get(\"Email\", \"\"),\n",
    "                \"phone_number\": row.get(\"Phone Number\", \"\"),\n",
    "                \"company_name\": row.get(\"Company Name\", \"\"),\n",
    "                \"website\": row.get(\"Website\", \"\"),\n",
    "                \"location\": row.get(\"Country\", \"\"),\n",
    "                \"linkedin_profile\": row.get(\"Linkedin Profile\", \"\"),\n",
    "                \"company_url\": row.get(\"Company Url\", \"\"),\n",
    "            }\n",
    "            \n",
    "            # # Add any additional columns as custom fields\n",
    "            # for key, value in row.items():\n",
    "            #     if key not in lead.keys() and value:\n",
    "            #         lead[\"custom_fields\"][key] = value\n",
    "            \n",
    "            lead_list.append(lead)\n",
    "    \n",
    "    # Write the JSON output\n",
    "    with open(json_file_path, 'w') as json_file:\n",
    "        json.dump({\"lead_list\": lead_list}, json_file, indent=2)\n",
    "\n",
    "    return lead_list\n",
    "\n",
    "# Usage\n",
    "csv_file_path = 'test_campaign 2 Lead List.csv'\n",
    "json_file_path = 'lead_list.json'\n",
    "leads = convert_csv_to_json(csv_file_path, json_file_path)\n",
    "print(f\"Converted {len(leads)} leads to JSON format\")"
   ]
  },
  {
   "cell_type": "markdown",
   "metadata": {},
   "source": [
    "## UPLOAD LEADS TO CAMPAIGN"
   ]
  },
  {
   "cell_type": "code",
   "execution_count": 6,
   "metadata": {},
   "outputs": [],
   "source": [
    "data = {\n",
    "    \"lead_list\": leads[:50],\n",
    "    \"settings\": {\n",
    "    \"ignore_global_block_list\": False, # If true, uploaded leads will BYPASS the global block list and be uploaded to the campaign.\n",
    "    \"ignore_unsubscribe_list\": False, # If true, leads will BYPASS the comparison with unsubscribed leads and be uploaded to the campaign.\n",
    "    \"ignore_community_bounce_list\": False, # If true, uploaded leads will BYPASS any leads that bounced across smartleads entire userbase and be uploaded to the campaign.\n",
    "    # *Pay attention to below*\n",
    "    \"ignore_duplicate_leads_in_other_campaign\": False # If true, leads will NOT BYPASS the comparison with other campaigns and NOT be added to the campaign if they are part of any other campaign. \n",
    "  }\n",
    "}\n",
    "leads_uploaded = requests.post(f\"https://server.smartlead.ai/api/v1/campaigns/{campaign_id}/leads?api_key={API_KEY}\", data=json.dumps(data), headers={\"Content-Type\": \"application/json\"})"
   ]
  },
  {
   "cell_type": "code",
   "execution_count": 7,
   "metadata": {},
   "outputs": [
    {
     "data": {
      "text/plain": [
       "{'ok': True,\n",
       " 'upload_count': 6,\n",
       " 'total_leads': 6,\n",
       " 'block_count': 0,\n",
       " 'duplicate_count': 0,\n",
       " 'invalid_email_count': 0,\n",
       " 'invalid_emails': [],\n",
       " 'already_added_to_campaign': 0,\n",
       " 'unsubscribed_leads': [],\n",
       " 'is_lead_limit_exhausted': False,\n",
       " 'lead_import_stopped_count': 0,\n",
       " 'bounce_count': 0}"
      ]
     },
     "execution_count": 7,
     "metadata": {},
     "output_type": "execute_result"
    }
   ],
   "source": [
    "leads_uploaded.json()"
   ]
  },
  {
   "cell_type": "markdown",
   "metadata": {},
   "source": [
    "## CREATE SEQUENCE FOR CAMPAIGN"
   ]
  },
  {
   "cell_type": "code",
   "execution_count": 22,
   "metadata": {},
   "outputs": [],
   "source": [
    "# --- Example, can replace with AI Agent Writer Tools ---\n",
    "sequences_data = {\n",
    "    \"sequences\": [\n",
    "        {\n",
    "            \"seq_number\": 1,\n",
    "            \"seq_delay_details\": {\n",
    "                \"delay_in_days\": 1\n",
    "            },\n",
    "            \"variant_distribution_type\": \"MANUAL_EQUAL\",\n",
    "            \"lead_distribution_percentage\": 40,\n",
    "            \"winning_metric_property\": \"OPEN_RATE\",\n",
    "            \"seq_variants\": [\n",
    "                {\n",
    "                    \"subject\": \"Subject\",\n",
    "                    \"email_body\": \"<p>Hi<br><br>How are you?<br><br>Hope you're doing good</p>\",\n",
    "                    \"variant_label\": \"A\",\n",
    "                    \"variant_distribution_percentage\": 20\n",
    "                },\n",
    "                {\n",
    "                    \"subject\": \"Ema a\",\n",
    "                    \"email_body\": \"<p>This is a new game a</p>\",\n",
    "                    \"variant_label\": \"B\",\n",
    "                    \"variant_distribution_percentage\": 60\n",
    "                },\n",
    "                {\n",
    "                    \"subject\": \"C emsil\",\n",
    "                    \"email_body\": \"<p>Hiii C</p>\",\n",
    "                    \"variant_label\": \"C\",\n",
    "                    \"variant_distribution_percentage\": 20\n",
    "                }\n",
    "            ]\n",
    "        },\n",
    "        {\n",
    "            \"seq_number\": 2,\n",
    "            \"seq_delay_details\": {\n",
    "                \"delay_in_days\": 1\n",
    "            },\n",
    "            \"subject\": \"\",\n",
    "            \"email_body\": \"Hi there, this is a follow up email\",\n",
    "        }\n",
    "    ]\n",
    "}\n",
    "\n",
    "response = requests.post(\n",
    "    f\"https://server.smartlead.ai/api/v1/campaigns/{campaign_id}/sequences?api_key={API_KEY}\",\n",
    "    data=json.dumps(sequences_data),\n",
    "    headers={\"Content-Type\": \"application/json\"}\n",
    ")"
   ]
  },
  {
   "cell_type": "code",
   "execution_count": 21,
   "metadata": {},
   "outputs": [
    {
     "data": {
      "text/plain": [
       "{'ok': True, 'data': 'success'}"
      ]
     },
     "execution_count": 21,
     "metadata": {},
     "output_type": "execute_result"
    }
   ],
   "source": [
    "response.json()"
   ]
  },
  {
   "cell_type": "markdown",
   "metadata": {},
   "source": [
    "## SCHEDULE TO RUN CAMPAIGN"
   ]
  },
  {
   "cell_type": "code",
   "execution_count": 10,
   "metadata": {},
   "outputs": [
    {
     "data": {
      "text/plain": [
       "{'ok': True}"
      ]
     },
     "execution_count": 10,
     "metadata": {},
     "output_type": "execute_result"
    }
   ],
   "source": [
    "schedule_data = {\n",
    "    \"timezone\": \"Asia/Saigon\",  # Changed to Hanoi timezone\n",
    "    \"days_of_the_week\": [0,1,2,3,4,5,6],\n",
    "    \"start_hour\": \"09:00\",\n",
    "    \"end_hour\": \"17:00\",\n",
    "    \"min_time_btw_emails\": 5,\n",
    "    \"max_new_leads_per_day\": 20,\n",
    "    \"schedule_start_time\": None,\n",
    "}\n",
    "\n",
    "schedule_response = requests.post(\n",
    "    f\"https://server.smartlead.ai/api/v1/campaigns/{campaign_id}/schedule?api_key={API_KEY}\",\n",
    "    data=json.dumps(schedule_data),\n",
    "    headers={\"Content-Type\": \"application/json\"}\n",
    ")\n",
    "schedule_response.json()"
   ]
  },
  {
   "cell_type": "markdown",
   "metadata": {},
   "source": [
    "## ADD EMAIL ACCOUNT FOR SENDING EMAIL CAMPAIGN "
   ]
  },
  {
   "cell_type": "code",
   "execution_count": 11,
   "metadata": {},
   "outputs": [
    {
     "data": {
      "text/plain": [
       "[{'id': 5730600,\n",
       "  'created_at': '2025-02-12T06:13:00.225Z',\n",
       "  'updated_at': '2025-02-14T06:27:39.812Z',\n",
       "  'user_id': 86384,\n",
       "  'from_name': 'info mation',\n",
       "  'from_email': 'info@jesselton.capital',\n",
       "  'username': 'info@jesselton.capital',\n",
       "  'password': None,\n",
       "  'smtp_host': None,\n",
       "  'smtp_port': None,\n",
       "  'smtp_port_type': None,\n",
       "  'message_per_day': 200,\n",
       "  'different_reply_to_address': None,\n",
       "  'is_different_imap_account': False,\n",
       "  'imap_username': None,\n",
       "  'imap_password': None,\n",
       "  'imap_host': None,\n",
       "  'imap_port': None,\n",
       "  'imap_port_type': None,\n",
       "  'signature': None,\n",
       "  'custom_tracking_domain': None,\n",
       "  'bcc_email': None,\n",
       "  'is_smtp_success': True,\n",
       "  'is_imap_success': True,\n",
       "  'smtp_failure_error': None,\n",
       "  'imap_failure_error': None,\n",
       "  'type': 'GMAIL',\n",
       "  'daily_sent_count': 6,\n",
       "  'client_id': None,\n",
       "  'warmup_details': None}]"
      ]
     },
     "execution_count": 11,
     "metadata": {},
     "output_type": "execute_result"
    }
   ],
   "source": [
    "email_accounts = requests.get(f\"https://server.smartlead.ai/api/v1/campaigns/1485611/email-accounts?api_key={API_KEY}\")\n",
    "email_accounts.json()"
   ]
  },
  {
   "cell_type": "code",
   "execution_count": 12,
   "metadata": {},
   "outputs": [
    {
     "data": {
      "text/plain": [
       "{'ok': True,\n",
       " 'result': [{'id': 48843672,\n",
       "   'email_campaign_id': 1502660,\n",
       "   'email_account_id': 5730600,\n",
       "   'updated_at': '2025-02-14T08:03:14.556Z',\n",
       "   'created_at': '2025-02-14T08:03:14.556Z'}]}"
      ]
     },
     "execution_count": 12,
     "metadata": {},
     "output_type": "execute_result"
    }
   ],
   "source": [
    "data = {\n",
    "    \"email_account_ids\": [5730600]\n",
    "}\n",
    "\n",
    "email_accounts_response = requests.post(\n",
    "    f\"https://server.smartlead.ai/api/v1/campaigns/{campaign_id}/email-accounts?api_key={API_KEY}\",\n",
    "    data=json.dumps(data),\n",
    "    headers={\"Content-Type\": \"application/json\"}\n",
    ")\n",
    "email_accounts_response.json()"
   ]
  },
  {
   "cell_type": "markdown",
   "metadata": {},
   "source": [
    "## START THE CAMPAIGN"
   ]
  },
  {
   "cell_type": "code",
   "execution_count": 13,
   "metadata": {},
   "outputs": [
    {
     "data": {
      "text/plain": [
       "{'ok': True}"
      ]
     },
     "execution_count": 13,
     "metadata": {},
     "output_type": "execute_result"
    }
   ],
   "source": [
    "data = {\n",
    "    \"status\": \"START\"\n",
    "}\n",
    "\n",
    "status_response = requests.post(\n",
    "    f\"https://server.smartlead.ai/api/v1/campaigns/{campaign_id}/status?api_key={API_KEY}\",\n",
    "    data=json.dumps(data),\n",
    "    headers={\"Content-Type\": \"application/json\"}\n",
    ")\n",
    "status_response.json()"
   ]
  }
 ],
 "metadata": {
  "kernelspec": {
   "display_name": "Python 3",
   "language": "python",
   "name": "python3"
  },
  "language_info": {
   "codemirror_mode": {
    "name": "ipython",
    "version": 3
   },
   "file_extension": ".py",
   "mimetype": "text/x-python",
   "name": "python",
   "nbconvert_exporter": "python",
   "pygments_lexer": "ipython3",
   "version": "3.12.2"
  }
 },
 "nbformat": 4,
 "nbformat_minor": 2
}
